{
 "cells": [
  {
   "cell_type": "markdown",
   "id": "9f0a95fe-a344-4f0b-9ebe-fd0571117f89",
   "metadata": {},
   "source": [
    "# Seeta Genova\n",
    "\n",
    "# 1. Logical functions and laws using conditionals\n",
    "TASK: Read and modify code acordingly"
   ]
  },
  {
   "cell_type": "code",
   "execution_count": 5,
   "id": "ec4b40b3-b0e6-4c7c-bfa3-4562cdbaf28a",
   "metadata": {},
   "outputs": [
    {
     "name": "stdout",
     "output_type": "stream",
     "text": [
      "p \tq \tr \tp v q \t(p ∧ q) → r \tp → q \t(p → r) ∧ (q → r)\n",
      "---------------------------------------------------------------------------\n",
      "True \tTrue \tTrue \tTrue \tTrue \tTrue \tTrue\n",
      "True \tTrue \tFalse \tTrue \tTrue \tTrue \tTrue\n",
      "True \tFalse \tTrue \tTrue \tTrue \tTrue \tTrue\n",
      "True \tFalse \tFalse \tTrue \tFalse \tTrue \tFalse\n",
      "False \tTrue \tTrue \tTrue \tTrue \tTrue \tTrue\n",
      "False \tTrue \tFalse \tTrue \tFalse \tTrue \tFalse\n",
      "False \tFalse \tTrue \tFalse \tTrue \tFalse \tTrue\n",
      "False \tFalse \tFalse \tFalse \tFalse \tFalse \tFalse\n"
     ]
    }
   ],
   "source": [
    "# Logical functions\n",
    "def implies(p, q):\n",
    "    return p or q\n",
    "\n",
    "def contrapositive(p, q):\n",
    "    return implies(not q, not p)\n",
    "\n",
    "def converse(p, q):\n",
    "    return implies(q, p)\n",
    "\n",
    "def inverse(p, q):\n",
    "    return implies(not p, not q)\n",
    "\n",
    "def biconditional(p, q):\n",
    "    return not p == q\n",
    "\n",
    "def xor(p,q):\n",
    "    return (not p or q) and ( (p and q))\n",
    "\n",
    "# Logical equivalences\n",
    "def distributive(p, q, r):\n",
    "    return implies(p or q, r) == (implies(p, r) and implies(q, r))\n",
    "\n",
    "def exportation(p, q, r):\n",
    "    return implies(p and q, r) == implies(p, implies(q, r))\n",
    "\n",
    "def reduction(p, q):\n",
    "    return not implies(p, q) == (p and not q)\n",
    "\n",
    "def equivalence(p,q):\n",
    "    return biconditional(p,q) == (not xor(p,q))\n",
    "\n",
    "def truthTable():\n",
    "    # Columns\n",
    "    # TASK: Modify each column as required for your compound statement (p, q, r, p ∨ q, (p ∧ q) → r, p → q, (p → r) ∧ (q → r))\n",
    "    \n",
    "    col1 = 'p'\n",
    "    col2 = 'q'\n",
    "    col3 = 'r'\n",
    "    col4 = 'p v q'\n",
    "    col5 = '(p ∧ q) → r'\n",
    "    col6 = 'p → q'\n",
    "    col7 = '(p → r) ∧ (q → r)'\n",
    "    print(f'{col1} \\t{col2} \\t{col3} \\t{col4} \\t{col5} \\t{col6} \\t{col7}')\n",
    "    print('-'*75)\n",
    "    \n",
    "    # Iteration of proposition values\n",
    "    for p in [True, False]:\n",
    "        for q in [True, False]:\n",
    "            for r in [True, False]:\n",
    "                # Columns\n",
    "                # TASK: Modify each column as required for your compound statement\n",
    "                col1 = p\n",
    "                col2 = q\n",
    "                col3 = r\n",
    "                col4 = p or q\n",
    "                col5 = implies((p and q), r)\n",
    "                col6 = implies(p,q)\n",
    "                col7 = implies(p,r) and implies(q,r)\n",
    "                print(f'{col1} \\t{col2} \\t{col3} \\t{col4} \\t{col5} \\t{col6} \\t{col7}')\n",
    "\n",
    "truthTable()"
   ]
  },
  {
   "cell_type": "markdown",
   "id": "e0179427-dd39-4375-9e1e-7910a96170be",
   "metadata": {},
   "source": [
    "## 2. Testing each logic function"
   ]
  },
  {
   "cell_type": "code",
   "execution_count": 13,
   "id": "33e65344-3489-4cfb-9195-4600b64667e6",
   "metadata": {},
   "outputs": [
    {
     "name": "stdout",
     "output_type": "stream",
     "text": [
      "True\n",
      "(True, False)\n",
      "False\n",
      "False\n"
     ]
    }
   ],
   "source": [
    "# Task: Modify values for p and q\n",
    "#       and try each logical function and logical equivalence\n",
    "# Example:\n",
    "p = True\n",
    "q = False\n",
    "r = True\n",
    "\n",
    "# Example:\n",
    "print( (not xor(p,q)) )\n",
    "print((not q, not p))\n",
    "#print( conditional(p,q) )\n",
    "\n",
    "print (not p or q) and ( (p and q))\n",
    "print ((p or q, r) == ((p, r) and (q, r)))\n",
    "\n"
   ]
  },
  {
   "cell_type": "markdown",
   "id": "cc872434-fec1-4081-baba-6f3254733c46",
   "metadata": {},
   "source": [
    "## 3. Compound statements using conditionals in English"
   ]
  },
  {
   "cell_type": "code",
   "execution_count": 19,
   "id": "eda345e0-9dc5-485a-baf8-a1e5a60385b0",
   "metadata": {},
   "outputs": [
    {
     "name": "stdout",
     "output_type": "stream",
     "text": [
      "Original Proposition:  If I study hard, then I will get an A.\n",
      "Inverse:  If I will not study hard, then I will not get an A.\n",
      "Converse:  If I will get an A, then I study hard.\n",
      "Contrapositive:  If I will not get an A, then I will not study hard.\n"
     ]
    }
   ],
   "source": [
    "def proposition_to_string(p, q):\n",
    "    prop = f\"If {p}, then {q}.\"   \n",
    "    return prop\n",
    "\n",
    "# TASK: Replace p and q for another compound statement\n",
    "def main():\n",
    "    p = \"I study hard\"\n",
    "    q = \"I will get an A\"\n",
    "\n",
    "    print(\"Original Proposition: \", proposition_to_string(p, q))\n",
    "\n",
    "    p_inv = \"I will not study hard\"\n",
    "    q_inv = \"I will not get an A\"\n",
    "\n",
    "    print(\"Inverse: \", proposition_to_string(p_inv, q_inv))\n",
    "    print(\"Converse: \", proposition_to_string(q, p))\n",
    "    print(\"Contrapositive: \", proposition_to_string(q_inv, p_inv))\n",
    "\n",
    "main()"
   ]
  },
  {
   "cell_type": "code",
   "execution_count": null,
   "id": "815290b5-d884-4f29-90e2-6db63f9bbcbb",
   "metadata": {},
   "outputs": [],
   "source": []
  }
 ],
 "metadata": {
  "kernelspec": {
   "display_name": "anaconda-ai-2024.04-py310",
   "language": "python",
   "name": "conda-env-anaconda-ai-2024.04-py310-py"
  },
  "language_info": {
   "codemirror_mode": {
    "name": "ipython",
    "version": 3
   },
   "file_extension": ".py",
   "mimetype": "text/x-python",
   "name": "python",
   "nbconvert_exporter": "python",
   "pygments_lexer": "ipython3",
   "version": "3.10.13"
  }
 },
 "nbformat": 4,
 "nbformat_minor": 5
}
